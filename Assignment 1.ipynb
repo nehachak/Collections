{
 "cells": [
  {
   "cell_type": "markdown",
   "metadata": {},
   "source": [
    "# Assignment 1, task1"
   ]
  },
  {
   "cell_type": "code",
   "execution_count": null,
   "metadata": {},
   "outputs": [],
   "source": [
    "\"Question 1\"\n"
   ]
  },
  {
   "cell_type": "code",
   "execution_count": null,
   "metadata": {},
   "outputs": [],
   "source": [
    "\"Question 2\""
   ]
  },
  {
   "cell_type": "code",
   "execution_count": 29,
   "metadata": {},
   "outputs": [
    {
     "name": "stdout",
     "output_type": "stream",
     "text": [
      "enter your first name neha\n",
      "enter your last name verma\n",
      "amrev  ahen\n"
     ]
    }
   ],
   "source": [
    "\"Question 3\"\n",
    "\n",
    "\n",
    "x=input(\"enter your first name \")\n",
    "y=input(\"enter your last name \")\n",
    "\n",
    "print(y[::-1],x[::-1], sep=\"  \")"
   ]
  },
  {
   "cell_type": "code",
   "execution_count": 30,
   "metadata": {},
   "outputs": [
    {
     "name": "stdout",
     "output_type": "stream",
     "text": [
      "voulme is: 904.7779199999999\n"
     ]
    }
   ],
   "source": [
    "\"Question 4\"\n",
    "\n",
    "diameter=12\n",
    "radius=diameter/2.0\n",
    "sq=radius**3\n",
    "volume=(4/3*pi*sq)\n",
    "print(\"voulme is:\",volume)"
   ]
  },
  {
   "cell_type": "markdown",
   "metadata": {},
   "source": [
    "# Task2"
   ]
  },
  {
   "cell_type": "code",
   "execution_count": 24,
   "metadata": {},
   "outputs": [
    {
     "name": "stdout",
     "output_type": "stream",
     "text": [
      "enter a sequencedhdhdh\n",
      "dhdhdh\n"
     ]
    }
   ],
   "source": [
    "\"Question 1\"\n",
    "\n",
    "sq= input(\"enter a sequence\")\n",
    "print(sq)\n",
    "\n",
    "        \n"
   ]
  },
  {
   "cell_type": "code",
   "execution_count": null,
   "metadata": {},
   "outputs": [],
   "source": []
  },
  {
   "cell_type": "code",
   "execution_count": null,
   "metadata": {},
   "outputs": [],
   "source": []
  }
 ],
 "metadata": {
  "kernelspec": {
   "display_name": "Python 3",
   "language": "python",
   "name": "python3"
  },
  "language_info": {
   "codemirror_mode": {
    "name": "ipython",
    "version": 3
   },
   "file_extension": ".py",
   "mimetype": "text/x-python",
   "name": "python",
   "nbconvert_exporter": "python",
   "pygments_lexer": "ipython3",
   "version": "3.6.5"
  }
 },
 "nbformat": 4,
 "nbformat_minor": 2
}
